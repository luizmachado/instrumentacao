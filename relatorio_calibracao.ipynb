{
 "cells": [
  {
   "cell_type": "code",
   "execution_count": 162,
   "metadata": {},
   "outputs": [],
   "source": [
    "import re\n",
    "import datetime\n",
    "import numpy as np\n",
    "import matplotlib.pyplot as plt\n",
    "from docx import Document\n",
    "from docx.shared import Inches\n",
    "from pandas.compat import BytesIO\n",
    "\n",
    "\n",
    "\n",
    "#Função para localizar e substituir em arquivos docx\n",
    "def docx_substitui(doc_obj, regex, replace):\n",
    "    \"\"\"Localizar e Substituir\n",
    "    \n",
    "    Essa função realiza uma busca nos parágrafos e tabelas usando regex,\n",
    "    em objeto docx.Document e substitui pelo replace.\n",
    "    \"\"\"\n",
    "    for p in doc_obj.paragraphs:\n",
    "        if regex.search(p.text):\n",
    "            inline = p.runs\n",
    "            for i in range(len(inline)):\n",
    "                if regex.search(inline[i].text):\n",
    "                    text = regex.sub(replace, inline[i].text)\n",
    "                    inline[i].text = text\n",
    "                    \n",
    "    for table in doc_obj.tables:\n",
    "        for row in table.rows:\n",
    "            for cell in row.cells:\n",
    "                docx_substitui(cell, regex, replace)\n",
    "                \n",
    "#Função para limpar tela\n",
    "from os import system, name\n",
    "def clear():\n",
    "    #Windows\n",
    "    if name == 'nt':\n",
    "        _ = system('cls')\n",
    "\n",
    "    #Demais SO's\n",
    "    else:\n",
    "        _ = system('clear')"
   ]
  },
  {
   "cell_type": "code",
   "execution_count": 157,
   "metadata": {
    "scrolled": false
   },
   "outputs": [
    {
     "name": "stdout",
     "output_type": "stream",
     "text": [
      "Informe o número do laudo:001\n",
      "Informe o nome do objeto a ser aferido: Manômetro Analog.\n",
      "Informe o nome do Fabricante: Wurth\n",
      "Informe o número de série do objeto: 452GFSDT42\n",
      "Informe a unidade de medida: BAR\n",
      "Informe a escala do objeto: 0 a 30\n",
      "Informe a resolução do objeto: 0,5\n",
      "Informe a resolução do padrão: 0,001\n",
      "Informe o nome do responsável: Luiz Gatão\n",
      "Defina quantos pontos serão coletados: 5\n",
      "Defina quanos ciclos serão realizados: 3\n"
     ]
    }
   ],
   "source": [
    "#Coleta das informações gerais\n",
    "id_laudo = input('Informe o número do laudo:')\n",
    "obj = input('Informe o nome do objeto a ser aferido: ')\n",
    "fabr = input('Informe o nome do Fabricante: ')\n",
    "serial = input('Informe o número de série do objeto: ')\n",
    "data = datetime.date.today().strftime('%d/%m/%Y')\n",
    "un = input('Informe a unidade de medida: ')\n",
    "esc = input('Informe a escala do objeto: ')\n",
    "res = input('Informe a resolução do objeto: ').replace(\",\", \".\")\n",
    "pad = input('Informe a resolução do padrão: ').replace(\",\", \".\")\n",
    "tecn = input('Informe o nome do responsável: ')\n",
    "pontos = int(input('Defina quantos pontos serão coletados: '))\n",
    "ciclos = int(input('Defina quanos ciclos serão realizados: '))\n",
    "\n",
    "clear()\n",
    "\n",
    "campos = {'ID_LAUDO': id_laudo, 'OBJ': obj, 'FABR': fabr,\n",
    "        'SERIAL': serial, 'DATA': data, 'UN': un,\n",
    "        'ESC': esc, 'RES': res, 'PAD': pad, 'TECN': tecn}\n",
    "#info_calib = {'PONTOS': pontos, 'CICLOS': ciclos}\n",
    "pontos += 1\n",
    "ciclos = ciclos*2+1"
   ]
  },
  {
   "cell_type": "code",
   "execution_count": 158,
   "metadata": {
    "scrolled": true
   },
   "outputs": [],
   "source": [
    "#Criando array\n",
    "a = np.zeros((ciclos, pontos), dtype=float)"
   ]
  },
  {
   "cell_type": "code",
   "execution_count": 198,
   "metadata": {
    "scrolled": true
   },
   "outputs": [
    {
     "name": "stdout",
     "output_type": "stream",
     "text": [
      "Informe o ponto 0: 5\n",
      "Informe o ponto 1: 10\n",
      "Informe o ponto 2: 15\n",
      "Informe o ponto 3: 20\n",
      "Informe o ponto 4: 25\n",
      "Informe o ponto 5: 30\n",
      "Informe o elemento Ascendente Ciclo 1, 5.0 pontos: 5,2\n",
      "Informe o elemento Ascendente Ciclo 1, 10.0 pontos: 9,9\n",
      "Informe o elemento Ascendente Ciclo 1, 15.0 pontos: 15,1\n",
      "Informe o elemento Ascendente Ciclo 1, 20.0 pontos: 20,1\n",
      "Informe o elemento Ascendente Ciclo 1, 25.0 pontos: 25,2\n",
      "Informe o elemento Ascendente Ciclo 1, 30.0 pontos: 30\n",
      "Informe o elemento Descendente Ciclo 1, 5.0 pontos: 5,1\n",
      "Informe o elemento Descendente Ciclo 1, 10.0 pontos: 9,9\n",
      "Informe o elemento Descendente Ciclo 1, 15.0 pontos: 14,9\n",
      "Informe o elemento Descendente Ciclo 1, 20.0 pontos: 20,1\n",
      "Informe o elemento Descendente Ciclo 1, 25.0 pontos: 25,1\n",
      "Informe o elemento Descendente Ciclo 1, 30.0 pontos: 30,1\n",
      "Informe o elemento Ascendente Ciclo 2, 5.0 pontos: 4,9\n",
      "Informe o elemento Ascendente Ciclo 2, 10.0 pontos: 9,8\n",
      "Informe o elemento Ascendente Ciclo 2, 15.0 pontos: 14,9\n",
      "Informe o elemento Ascendente Ciclo 2, 20.0 pontos: 20,1\n",
      "Informe o elemento Ascendente Ciclo 2, 25.0 pontos: 25,1\n",
      "Informe o elemento Ascendente Ciclo 2, 30.0 pontos: 29,9\n",
      "Informe o elemento Descendente Ciclo 2, 5.0 pontos: 4,9\n",
      "Informe o elemento Descendente Ciclo 2, 10.0 pontos: 9,9\n",
      "Informe o elemento Descendente Ciclo 2, 15.0 pontos: 15,2\n",
      "Informe o elemento Descendente Ciclo 2, 20.0 pontos: 20,1\n",
      "Informe o elemento Descendente Ciclo 2, 25.0 pontos: 24,9\n",
      "Informe o elemento Descendente Ciclo 2, 30.0 pontos: 30,1\n",
      "Informe o elemento Ascendente Ciclo 3, 5.0 pontos: 5\n",
      "Informe o elemento Ascendente Ciclo 3, 10.0 pontos: 10,1\n",
      "Informe o elemento Ascendente Ciclo 3, 15.0 pontos: 15\n",
      "Informe o elemento Ascendente Ciclo 3, 20.0 pontos: 19,9\n",
      "Informe o elemento Ascendente Ciclo 3, 25.0 pontos: 24,9\n",
      "Informe o elemento Ascendente Ciclo 3, 30.0 pontos: 30\n",
      "Informe o elemento Descendente Ciclo 3, 5.0 pontos: 5,1\n",
      "Informe o elemento Descendente Ciclo 3, 10.0 pontos: 10\n",
      "Informe o elemento Descendente Ciclo 3, 15.0 pontos: 14,9\n",
      "Informe o elemento Descendente Ciclo 3, 20.0 pontos: 20\n",
      "Informe o elemento Descendente Ciclo 3, 25.0 pontos: 24,9\n",
      "Informe o elemento Descendente Ciclo 3, 30.0 pontos: 30\n"
     ]
    }
   ],
   "source": [
    "i = 0 #Controle do laço de repetição\n",
    "c = 0 #Controle da iteração do Ciclo\n",
    "d = 1 #Contador de ciclos\n",
    "while i < len(a):\n",
    "    j = 0 #Controle do laço de repetição para mudar de array\n",
    "    while j < len(a[i]):\n",
    "        if i == 0:\n",
    "            x = float(input('Informe o ponto {}: '.format(j)))\n",
    "            a[i][j] = x\n",
    "            j += 1\n",
    "        elif i % 2 == 0:\n",
    "            x = float((input('Informe o elemento Descendente Ciclo {}, {} pontos: '.format(d, a[0][j])).replace(\",\", \".\")))\n",
    "            a[i][j] = x\n",
    "            j += 1\n",
    "        else:\n",
    "            x = float((input('Informe o elemento Ascendente Ciclo {}, {} pontos: '.format(d, a[0][j])).replace(\",\", \".\")))\n",
    "            a[i][j] = x\n",
    "            j += 1\n",
    "    #Iteração para contagem de ciclos\n",
    "    if (c % 2 == 0) & (c != 0):\n",
    "        d += 1\n",
    "    c += 1\n",
    "    i += 1\n",
    "\n",
    "    "
   ]
  },
  {
   "cell_type": "code",
   "execution_count": 199,
   "metadata": {},
   "outputs": [],
   "source": [
    "#Transpor a matriz para facilitar a criação da tabela\n",
    "a = a.T"
   ]
  },
  {
   "cell_type": "code",
   "execution_count": 200,
   "metadata": {},
   "outputs": [
    {
     "data": {
      "image/png": "[encoded data removed]",
      "text/plain": [
       "<Figure size 800x400 with 1 Axes>"
      ]
     },
     "metadata": {
      "needs_background": "light"
     },
     "output_type": "display_data"
    }
   ],
   "source": [
    "#Gerar Relatorio\n",
    "arquivo = \"Templates/laudo_afericao.docx\"\n",
    "\n",
    "#Informações gerais\n",
    "doc = Document(arquivo)\n",
    "for x in campos:\n",
    "    localizar = re.compile(x)\n",
    "    info = campos[x]\n",
    "    docx_substitui(doc, localizar, info)\n",
    "\n",
    "#Tabela de aferição\n",
    "memoria = BytesIO()\n",
    "fig, ax = plt.subplots(dpi=200,  figsize=(4,2))\n",
    "collabel=('Pontos', 'Ciclo 1\\nAscendente', 'Ciclo 1\\nDescendente',\n",
    "          'Ciclo 2\\nAscendente', 'Ciclo 2\\nDescendente',\n",
    "          'Ciclo 3\\nAscendente', 'Ciclo 3\\nDescendente')\n",
    "ax.axis('tight')\n",
    "ax.axis('off')\n",
    "tabela = ax.table(cellText=a,colLabels=collabel,loc='center')\n",
    "tabela.scale(2,2)\n",
    "plt.savefig(memoria, bbox_inches='tight')\n",
    "doc.add_picture(memoria)\n",
    "    \n",
    "doc.save('resultado.docx')\n",
    "memoria.close()"
   ]
  }
 ],
 "metadata": {
  "kernelspec": {
   "display_name": "Python 3",
   "language": "python",
   "name": "python3"
  },
  "language_info": {
   "codemirror_mode": {
    "name": "ipython",
    "version": 3
   },
   "file_extension": ".py",
   "mimetype": "text/x-python",
   "name": "python",
   "nbconvert_exporter": "python",
   "pygments_lexer": "ipython3",
   "version": "3.6.9"
  }
 },
 "nbformat": 4,
 "nbformat_minor": 2
}
