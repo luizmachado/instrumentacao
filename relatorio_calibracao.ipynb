{
 "cells": [
  {
   "cell_type": "code",
   "execution_count": 46,
   "metadata": {},
   "outputs": [],
   "source": [
    "from docx import Document\n",
    "import re\n",
    "import datetime\n",
    "import numpy as np\n",
    "\n",
    "#Função para localizar e substituir em arquivos docx\n",
    "def docx_substitui(doc_obj, regex, replace):\n",
    "    \"\"\"Localizar e Substituir\n",
    "    \n",
    "    Essa função realiza uma busca nos parágrafos e tabelas usando regex,\n",
    "    em objeto docx.Document e substitui pelo replace.\n",
    "    \"\"\"\n",
    "    for p in doc_obj.paragraphs:\n",
    "        if regex.search(p.text):\n",
    "            inline = p.runs\n",
    "            for i in range(len(inline)):\n",
    "                if regex.search(inline[i].text):\n",
    "                    text = regex.sub(replace, inline[i].text)\n",
    "                    inline[i].text = text\n",
    "                    \n",
    "    for table in doc_obj.tables:\n",
    "        for row in table.rows:\n",
    "            for cell in row.cells:\n",
    "                docx_substitui(cell, regex, replace)\n",
    "                \n",
    "#Função para limpar tela\n",
    "from os import system, name\n",
    "def clear():\n",
    "    #Windows\n",
    "    if name == 'nt':\n",
    "        _ = system('cls')\n",
    "\n",
    "    #Demais SO's\n",
    "    else:\n",
    "        _ = system('clear')"
   ]
  },
  {
   "cell_type": "code",
   "execution_count": 4,
   "metadata": {
    "scrolled": false
   },
   "outputs": [
    {
     "name": "stdout",
     "output_type": "stream",
     "text": [
      "Informe o número do laudo:001\n",
      "Informe o nome do objeto a ser aferido: Manômetro\n",
      "Informe o nome do Fabricante: Senso\n",
      "Informe o número de série do objeto: FSADFQA4512S\n",
      "Informe a unidade de medida: mm\n",
      "Informe a escala do objeto: 0 a 30\n",
      "Informe a resolução do objeto: 0.5\n",
      "Informe a resolução do padrão: 0.001\n",
      "Informe o nome do responsável: Luiz Gatão\n",
      "Defina quantos pontos serão coletados: 5\n",
      "Defina quanos ciclos serão realizados: 3\n",
      "{'ID_LAUDO': '001', 'OBJ': 'Manômetro', 'FABR': 'Senso', 'SERIAL': 'FSADFQA4512S', 'DATA': '12/02/2020', 'UN': 'mm', 'ESC': '0 a 30', 'RES': 0.5, 'PAD': 0.001, 'TECN': 'Luiz Gatão'}\n",
      "{'PONTOS': 5, 'CICLOS': 3}\n"
     ]
    }
   ],
   "source": [
    "id_laudo = input('Informe o número do laudo:')\n",
    "obj = input('Informe o nome do objeto a ser aferido: ')\n",
    "fabr = input('Informe o nome do Fabricante: ')\n",
    "serial = input('Informe o número de série do objeto: ')\n",
    "data = datetime.date.today().strftime('%d/%m/%Y')\n",
    "un = input('Informe a unidade de medida: ')\n",
    "esc = input('Informe a escala do objeto: ')\n",
    "res = float(input('Informe a resolução do objeto: '))\n",
    "pad = float(input('Informe a resolução do padrão: '))\n",
    "tecn = input('Informe o nome do responsável: ')\n",
    "pontos = int(input('Defina quantos pontos serão coletados: '))\n",
    "ciclos = int(input('Defina quanos ciclos serão realizados: '))\n",
    "\n",
    "clear()\n",
    "\n",
    "campos = {'ID_LAUDO': id_laudo, 'OBJ': obj, 'FABR': fabr,\n",
    "        'SERIAL': serial, 'DATA': data, 'UN': un,\n",
    "        'ESC': esc, 'RES': res, 'PAD': pad, 'TECN': tecn}\n",
    "info_calib = {'PONTOS': pontos, 'CICLOS': ciclos}\n",
    "print(campos)\n",
    "print(info_calib)"
   ]
  },
  {
   "cell_type": "code",
   "execution_count": null,
   "metadata": {
    "scrolled": true
   },
   "outputs": [],
   "source": [
    "a = np.zeros((ciclos*2+1, pontos), dtype=float)"
   ]
  },
  {
   "cell_type": "code",
   "execution_count": 33,
   "metadata": {},
   "outputs": [
    {
     "data": {
      "text/plain": [
       "7"
      ]
     },
     "execution_count": 33,
     "metadata": {},
     "output_type": "execute_result"
    }
   ],
   "source": [
    "len(a)"
   ]
  },
  {
   "cell_type": "code",
   "execution_count": null,
   "metadata": {},
   "outputs": [],
   "source": [
    "i = 0\n",
    "c = 0\n",
    "while i < len(a):\n",
    "    j = 0\n",
    "    while j < len(a[i]):\n",
    "        if i == 0:\n",
    "            x = float(input('Informe o ponto {}: '.format(j)))\n",
    "            a[i][j] = x\n",
    "            j += 1\n",
    "        elif i % 2 == 0:\n",
    "            x = float(input('Informe o elemento Descendente Ciclo {}, {} pontos: '.format(c, a[0][j])))\n",
    "            a[i][j] = x\n",
    "            j += 1\n",
    "        else:\n",
    "            x = float(input('Informe o elemento Ascendente Ciclo {}, {} pontos: '.format(c, a[0][j])))\n",
    "            a[i][j] = x\n",
    "            j += 1\n",
    "    clear()\n",
    "    i += 1\n",
    "    x = i // 2\n",
    "    print(x)\n",
    "    print('*****************', i)\n",
    "    if i % 2 == 0:\n",
    "        c += 1\n",
    "    "
   ]
  },
  {
   "cell_type": "code",
   "execution_count": 57,
   "metadata": {},
   "outputs": [
    {
     "data": {
      "text/plain": [
       "5"
      ]
     },
     "execution_count": 57,
     "metadata": {},
     "output_type": "execute_result"
    }
   ],
   "source": [
    "u"
   ]
  },
  {
   "cell_type": "code",
   "execution_count": null,
   "metadata": {},
   "outputs": [],
   "source": [
    "arquivo = \"Templates/laudo_afericao.docx\"\n",
    "doc = Document(arquivo)\n",
    "for x in campos:\n",
    "    localizar = re.compile(x)\n",
    "    info = campos[x]\n",
    "    docx_substitui(doc, localizar, info)\n",
    "doc.save('resultado.docx')"
   ]
  },
  {
   "cell_type": "code",
   "execution_count": null,
   "metadata": {},
   "outputs": [],
   "source": [
    "for x in campos:\n",
    "  print(x) "
   ]
  },
  {
   "cell_type": "code",
   "execution_count": null,
   "metadata": {},
   "outputs": [],
   "source": [
    "for x in campos:\n",
    "  print(campos[x]) "
   ]
  },
  {
   "cell_type": "code",
   "execution_count": null,
   "metadata": {},
   "outputs": [],
   "source": []
  }
 ],
 "metadata": {
  "kernelspec": {
   "display_name": "Python 3",
   "language": "python",
   "name": "python3"
  },
  "language_info": {
   "codemirror_mode": {
    "name": "ipython",
    "version": 3
   },
   "file_extension": ".py",
   "mimetype": "text/x-python",
   "name": "python",
   "nbconvert_exporter": "python",
   "pygments_lexer": "ipython3",
   "version": "3.6.9"
  }
 },
 "nbformat": 4,
 "nbformat_minor": 2
}
